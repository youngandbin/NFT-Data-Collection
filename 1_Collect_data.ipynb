{
 "cells": [
  {
   "attachments": {},
   "cell_type": "markdown",
   "metadata": {},
   "source": [
    "# Etherscan \n",
    "to collect NFT transaction records"
   ]
  },
  {
   "cell_type": "code",
   "execution_count": 1,
   "metadata": {},
   "outputs": [
    {
     "data": {
      "text/plain": [
       "'콜렉션 더 추가'"
      ]
     },
     "execution_count": 1,
     "metadata": {},
     "output_type": "execute_result"
    }
   ],
   "source": [
    "'''\n",
    "configuration\n",
    "'''\n",
    "\n",
    "from etherscan import Etherscan\n",
    "import pandas as pd\n",
    "import os \n",
    "\n",
    "eth = Etherscan('YOUR_KEY') # API key\n",
    "\n",
    "# Smart Contract Address of NFT Collections\n",
    "BAYC = \"0xBC4CA0EdA7647A8aB7C2061c2E118A18a936f13D\"  # erc721\n",
    "CRYPTOPUNKS = \"0xb47e3cd837ddf8e4c57f05d70ab865de6e193bbb\" # erc20\n",
    "MOONBIRDS = \"0x23581767a106ae21c074b2276d25e5c3e136a68b\"  # erc721\n",
    "CYBERBROKERS = \"0x892848074ddeA461A15f337250Da3ce55580CA85\"  # CyberBrokers\n",
    "BEANZ = \"0x306b1ea3ecdf94aB739F1910bbda052Ed4A9f949\"  # BEANZ official\n",
    "OTHR = \"0x34d85c9cdeb23fa97cb08333b511ac86e1c4e258\"  # Otherdeed for Otherside\n",
    "MEEBITS = \"0x7Bd29408f11D2bFC23c34f18275bBf23bB716Bc7\"  # Meebits\n",
    "DOODLES = \"0x8a90cab2b38dba80c64b7734e58ee1db38b8992e\"  # Doodles\n",
    "AZUKI = \"0xed5af388653567af2f388e6224dc7c4b3241c544\"  # Azuki\n",
    "VEE2 = \"0x9378368ba6b85c1fba5b131b530f5f5bedf21a18\"  # VeeFriends Series 2\n",
    "COOLCATS = \"0x1A92f7381B9F03921564a437210bB9396471050C\"  # Cool Cats"
   ]
  },
  {
   "attachments": {},
   "cell_type": "markdown",
   "metadata": {},
   "source": [
    "## Token transfer events"
   ]
  },
  {
   "cell_type": "code",
   "execution_count": 3,
   "metadata": {},
   "outputs": [],
   "source": [
    "'''\n",
    "Get transaction records of each NFT collections.\n",
    "The code collects up to 10,000 past transaction records from the time of execution.\n",
    "'''\n",
    "\n",
    "bayc = eth.get_erc721_token_transfer_events_by_contract_address_paginated(\n",
    "    contract_address=BAYC,\n",
    "    page=1, offset=10000, sort=\"desc\")\n",
    "\n",
    "moonbirds = eth.get_erc721_token_transfer_events_by_contract_address_paginated(\n",
    "    contract_address=MOONBIRDS,\n",
    "    page=1, offset=10000, sort=\"desc\")\n",
    "\n",
    "cyberbrokers = eth.get_erc721_token_transfer_events_by_contract_address_paginated(\n",
    "    contract_address=CYBERBROKERS,\n",
    "    page=1, offset=10000, sort=\"desc\")\n",
    "\n",
    "beanz = eth.get_erc721_token_transfer_events_by_contract_address_paginated(\n",
    "    contract_address=BEANZ,\n",
    "    page=1, offset=10000, sort=\"desc\")\n",
    "\n",
    "othr = eth.get_erc721_token_transfer_events_by_contract_address_paginated(\n",
    "    contract_address=OTHR,\n",
    "    page=1, offset=10000, sort=\"desc\")\n",
    "\n",
    "meebits = eth.get_erc721_token_transfer_events_by_contract_address_paginated(\n",
    "    contract_address=MEEBITS,\n",
    "    page=1, offset=10000, sort=\"desc\")\n",
    "\n",
    "doodles = eth.get_erc721_token_transfer_events_by_contract_address_paginated(\n",
    "    contract_address=DOODLES,\n",
    "    page=1, offset=10000, sort=\"desc\")\n",
    "\n",
    "azuki = eth.get_erc721_token_transfer_events_by_contract_address_paginated(\n",
    "    contract_address=AZUKI,\n",
    "    page=1, offset=10000, sort=\"desc\")\n",
    "\n",
    "vee2 = eth.get_erc721_token_transfer_events_by_contract_address_paginated(\n",
    "    contract_address=VEE2,\n",
    "    page=1, offset=10000, sort=\"desc\")\n",
    "\n",
    "coolcats = eth.get_erc721_token_transfer_events_by_contract_address_paginated(\n",
    "    contract_address=COOLCATS,\n",
    "    page=1, offset=10000, sort=\"desc\")\n"
   ]
  },
  {
   "cell_type": "code",
   "execution_count": 4,
   "metadata": {},
   "outputs": [],
   "source": [
    "'''\n",
    "convert to dataframe\n",
    "'''\n",
    "\n",
    "df_bayc = pd.DataFrame(bayc)\n",
    "df_moonbirds = pd.DataFrame(moonbirds)\n",
    "df_cyberbrokers = pd.DataFrame(cyberbrokers)\n",
    "df_beanz = pd.DataFrame(beanz)\n",
    "df_othr = pd.DataFrame(othr)\n",
    "df_meebits = pd.DataFrame(meebits)\n",
    "df_doodles = pd.DataFrame(doodles)\n",
    "df_azuki = pd.DataFrame(azuki)\n",
    "df_vee2 = pd.DataFrame(vee2)\n",
    "df_coolcats = pd.DataFrame(coolcats)"
   ]
  },
  {
   "cell_type": "code",
   "execution_count": 5,
   "metadata": {},
   "outputs": [],
   "source": [
    "'''\n",
    "save to csv\n",
    "'''\n",
    "\n",
    "\n",
    "date = '230212' # The time at which the code for collecting transaction records was executed.\n",
    "\n",
    "save_path = './data/etherscan/' + date + '/'\n",
    "os.mkdir(save_path)\n",
    "\n",
    "df_list = [df_bayc, df_moonbirds, df_cyberbrokers,\n",
    "           df_beanz, df_othr, df_meebits, df_doodles, df_azuki, df_vee2, df_coolcats]\n",
    "df_names = ['BAYC', 'MOONBIRDS', 'CYBERBROKERS',\n",
    "            'BEANZ', 'OTHR', 'MEEBITS', 'DOODLES', 'AZUKI', 'VEE2', 'COOLCATS']\n",
    "\n",
    "for i in range(len(df_list)):\n",
    "    df_list[i].to_csv(save_path+ f'{df_names[i]}.csv', index=False)\n"
   ]
  },
  {
   "cell_type": "markdown",
   "metadata": {},
   "source": [
    "## Normal transactions"
   ]
  },
  {
   "cell_type": "code",
   "execution_count": 7,
   "metadata": {},
   "outputs": [
    {
     "data": {
      "text/plain": [
       "10000"
      ]
     },
     "execution_count": 7,
     "metadata": {},
     "output_type": "execute_result"
    }
   ],
   "source": [
    "'''\n",
    "You can collect transaction records from the desired time by using the concept of a \"block\", which is time in the blockchain.\n",
    "'''\n",
    "\n",
    "normal_txs = eth.get_normal_txs_by_address(address=BAYC, \n",
    "                                           startblock=12287507, endblock=14790038, sort='desc') \n",
    "len(normal_txs)"
   ]
  },
  {
   "cell_type": "code",
   "execution_count": 8,
   "metadata": {},
   "outputs": [
    {
     "data": {
      "text/plain": [
       "{'blockNumber': '14790038',\n",
       " 'timeStamp': '1652756437',\n",
       " 'hash': '0xad1b60705d0dcfceab9d09c1321d424245f1ebfa9a5c0380a77dd0928a8e1031',\n",
       " 'nonce': '121',\n",
       " 'blockHash': '0x72132a5fabf8af031b9d9af4b2b8e69fa03138c9576fd9a0bdb3a392568f82d4',\n",
       " 'transactionIndex': '210',\n",
       " 'from': '0x0232d1083e970f0c78f56202b9a666b526fa379f',\n",
       " 'to': '0xbc4ca0eda7647a8ab7c2061c2e118a18a936f13d',\n",
       " 'value': '0',\n",
       " 'gas': '43752',\n",
       " 'gasPrice': '36310559148',\n",
       " 'isError': '0',\n",
       " 'txreceipt_status': '1',\n",
       " 'input': '0xa22cb465000000000000000000000000187e8e5c70457c756a5779aeb2227ef098bca7760000000000000000000000000000000000000000000000000000000000000000',\n",
       " 'contractAddress': '',\n",
       " 'cumulativeGasUsed': '9973057',\n",
       " 'gasUsed': '24368',\n",
       " 'confirmations': '1819608',\n",
       " 'methodId': '0xa22cb465',\n",
       " 'functionName': 'setApprovalForAll(address operator, bool authorized)'}"
      ]
     },
     "execution_count": 8,
     "metadata": {},
     "output_type": "execute_result"
    }
   ],
   "source": [
    "normal_txs[0] # method = Set approval for all"
   ]
  },
  {
   "cell_type": "code",
   "execution_count": 9,
   "metadata": {},
   "outputs": [
    {
     "data": {
      "text/plain": [
       "{'blockNumber': '14790024',\n",
       " 'timeStamp': '1652756248',\n",
       " 'hash': '0x6845ba1fdd1a6fbc99edf92f20b84f2d6d1a74eaf243f254807e9c47acbb2873',\n",
       " 'nonce': '0',\n",
       " 'blockHash': '0xc72910eeb84cf0c83b4008de4fc83e70fca2e591461c4157f5bcbb19170364df',\n",
       " 'transactionIndex': '42',\n",
       " 'from': '0xb530b3ede6d22d307eb13c5691f6018576d88a15',\n",
       " 'to': '0xbc4ca0eda7647a8ab7c2061c2e118a18a936f13d',\n",
       " 'value': '0',\n",
       " 'gas': '107499',\n",
       " 'gasPrice': '39778683717',\n",
       " 'isError': '0',\n",
       " 'txreceipt_status': '1',\n",
       " 'input': '0x23b872dd000000000000000000000000b530b3ede6d22d307eb13c5691f6018576d88a15000000000000000000000000f4e423ce220e4d9fedcfebcd755ff9d37dc244b2000000000000000000000000000000000000000000000000000000000000130a',\n",
       " 'contractAddress': '',\n",
       " 'cumulativeGasUsed': '2465323',\n",
       " 'gasUsed': '93099',\n",
       " 'confirmations': '1819622',\n",
       " 'methodId': '0x23b872dd',\n",
       " 'functionName': 'transferFrom(address _from, address _to, uint256 _value)'}"
      ]
     },
     "execution_count": 9,
     "metadata": {},
     "output_type": "execute_result"
    }
   ],
   "source": [
    "normal_txs[1] # method = Transfer from"
   ]
  },
  {
   "cell_type": "markdown",
   "metadata": {},
   "source": [
    "## Internal transactions"
   ]
  },
  {
   "cell_type": "code",
   "execution_count": 12,
   "metadata": {},
   "outputs": [
    {
     "data": {
      "text/plain": [
       "5"
      ]
     },
     "execution_count": 12,
     "metadata": {},
     "output_type": "execute_result"
    }
   ],
   "source": [
    "internal_txs = eth.get_internal_txs_by_address(address=BAYC, \n",
    "                                             startblock=12287507, endblock=\"latest\", sort='desc')\n",
    "len(internal_txs)"
   ]
  },
  {
   "cell_type": "code",
   "execution_count": 14,
   "metadata": {},
   "outputs": [
    {
     "data": {
      "text/plain": [
       "{'blockNumber': '12347264',\n",
       " 'timeStamp': '1619858426',\n",
       " 'hash': '0xedae047498557fdf1d6904086e7020bb55af122fff040cb77c4c2b26c1ab5b32',\n",
       " 'from': '0xbc4ca0eda7647a8ab7c2061c2e118a18a936f13d',\n",
       " 'to': '0xaba7161a7fb69c88e16ed9f455ce62b791ee4d03',\n",
       " 'value': '322560000000000000000',\n",
       " 'contractAddress': '',\n",
       " 'input': '',\n",
       " 'type': 'call',\n",
       " 'gas': '2300',\n",
       " 'gasUsed': '0',\n",
       " 'traceId': '0',\n",
       " 'isError': '0',\n",
       " 'errCode': ''}"
      ]
     },
     "execution_count": 14,
     "metadata": {},
     "output_type": "execute_result"
    }
   ],
   "source": [
    "internal_txs[0]"
   ]
  },
  {
   "attachments": {},
   "cell_type": "markdown",
   "metadata": {},
   "source": [
    "# OpenSea\n",
    "to collect NFT content features"
   ]
  },
  {
   "cell_type": "code",
   "execution_count": 16,
   "metadata": {},
   "outputs": [],
   "source": [
    "import pandas as pd\n",
    "from tqdm import tqdm\n",
    "import requests\n",
    "\n",
    "# Smart Contract Address of NFT Collections\n",
    "BAYC = \"0xBC4CA0EdA7647A8aB7C2061c2E118A18a936f13D\" # (10000)\n",
    "MEEBITS = \"0x7Bd29408f11D2bFC23c34f18275bBf23bB716Bc7\" #(20000)\n",
    "DOODLES = \"0x8a90cab2b38dba80c64b7734e58ee1db38b8992e\" # (10000)\n",
    "AZUKI = \"0xed5af388653567af2f388e6224dc7c4b3241c544\" # (10000)\n",
    "COOLCATS = \"0x1A92f7381B9F03921564a437210bB9396471050C\" # (9941;0~9940)\n",
    "\n"
   ]
  },
  {
   "attachments": {},
   "cell_type": "markdown",
   "metadata": {},
   "source": [
    "## Traits"
   ]
  },
  {
   "cell_type": "code",
   "execution_count": null,
   "metadata": {},
   "outputs": [],
   "source": [
    "#Coolcats\n",
    "\n",
    "trait_responses = []\n",
    "for t_id in tqdm(range(1, 9941)):\n",
    "\n",
    "\ttry:\n",
    "\t\turl = f\"https://api.opensea.io/api/v1/asset/0x1A92f7381B9F03921564a437210bB9396471050C/{t_id}/?account_address=0x1A92f7381B9F03921564a437210bB9396471050C&include_orders=false\"\n",
    "\t\theaders = {\"X-API-KEY\": \"YOUR_KEY\"}\n",
    "\t\tresponse = requests.get(url, headers=headers)\n",
    "\t\tresponse_json = response.json()['traits']\n",
    "\t\ttrait_responses.append(response_json)\n",
    "\texcept:\n",
    "\t\tpass\n",
    "\n",
    "coolcats = pd.DataFrame([{x['trait_type']:x['value']\n",
    "                        for x in d} for d in trait_responses])\n",
    "coolcats.to_csv(\"data/opensea/traits_matrix_coolcats.csv\")\n"
   ]
  },
  {
   "cell_type": "code",
   "execution_count": null,
   "metadata": {},
   "outputs": [],
   "source": [
    "#Meebits\n",
    "\n",
    "trait_responses = []\n",
    "for t_id in tqdm(range(1, 20000)):\n",
    "\n",
    "\ttry:\n",
    "                url = f\"https://api.opensea.io/api/v1/asset/0x7Bd29408f11D2bFC23c34f18275bBf23bB716Bc7/{t_id}/?account_address=0x7Bd29408f11D2bFC23c34f18275bBf23bB716Bc7&include_orders=false\"\n",
    "                headers = {\"X-API-KEY\": \"YOUR_KEY\"}\n",
    "                response = requests.get(url, headers=headers)\n",
    "                response_json = response.json()['traits']\n",
    "                trait_responses.append(response_json)\n",
    "\texcept:\n",
    "\t\tpass\n",
    "\n",
    "traits = pd.DataFrame([{x['trait_type']:x['value']\n",
    "                      for x in d} for d in trait_responses])\n",
    "                      \n",
    "traits.to_csv(\"data/opensea/traits_matrix_meebits.csv\")\n"
   ]
  },
  {
   "attachments": {},
   "cell_type": "markdown",
   "metadata": {},
   "source": [
    "## Retrieving bundles\n",
    "- https://docs.opensea.io/reference/retrieving-bundles\n",
    "- limit: up to 50"
   ]
  },
  {
   "cell_type": "code",
   "execution_count": 17,
   "metadata": {},
   "outputs": [
    {
     "name": "stdout",
     "output_type": "stream",
     "text": [
      "20\n"
     ]
    }
   ],
   "source": [
    "import requests\n",
    "\n",
    "url = \"https://api.opensea.io/api/v1/bundles?limit=20&offset=0\"\n",
    "response = requests.request(\"GET\", url)\n",
    "\n",
    "bundles_list = response.json()['bundles']\n",
    "print(len(bundles_list))"
   ]
  },
  {
   "cell_type": "code",
   "execution_count": 18,
   "metadata": {},
   "outputs": [
    {
     "name": "stdout",
     "output_type": "stream",
     "text": [
      "assets\n",
      "maker\n",
      "slug\n",
      "name\n",
      "description\n",
      "external_link\n",
      "asset_contract\n",
      "permalink\n",
      "seaport_sell_orders\n"
     ]
    }
   ],
   "source": [
    "item = bundles_list[1]\n",
    "\n",
    "for key, value in item.items():\n",
    "    print(key)"
   ]
  },
  {
   "cell_type": "code",
   "execution_count": 19,
   "metadata": {},
   "outputs": [],
   "source": [
    "item['maker']"
   ]
  },
  {
   "cell_type": "code",
   "execution_count": 20,
   "metadata": {},
   "outputs": [
    {
     "data": {
      "text/plain": [
       "'hoi-an-collection-BKu'"
      ]
     },
     "execution_count": 20,
     "metadata": {},
     "output_type": "execute_result"
    }
   ],
   "source": [
    "item['slug']\n"
   ]
  },
  {
   "cell_type": "code",
   "execution_count": 21,
   "metadata": {},
   "outputs": [
    {
     "data": {
      "text/plain": [
       "'HOI AN COLLECTION'"
      ]
     },
     "execution_count": 21,
     "metadata": {},
     "output_type": "execute_result"
    }
   ],
   "source": [
    "item['name']\n"
   ]
  },
  {
   "cell_type": "code",
   "execution_count": 22,
   "metadata": {},
   "outputs": [],
   "source": [
    "item['description']\n"
   ]
  },
  {
   "cell_type": "code",
   "execution_count": 23,
   "metadata": {},
   "outputs": [],
   "source": [
    "item['external_link']\n"
   ]
  },
  {
   "cell_type": "code",
   "execution_count": 24,
   "metadata": {},
   "outputs": [
    {
     "data": {
      "text/plain": [
       "'https://opensea.io/bundles/hoi-an-collection-BKu'"
      ]
     },
     "execution_count": 24,
     "metadata": {},
     "output_type": "execute_result"
    }
   ],
   "source": [
    "item['permalink']\n"
   ]
  },
  {
   "attachments": {},
   "cell_type": "markdown",
   "metadata": {},
   "source": [
    "### assets \n",
    "- longer information: asset_contract, collection, owner\n",
    "- not available: decimals, token_metadata, is_nsfw"
   ]
  },
  {
   "cell_type": "code",
   "execution_count": 25,
   "metadata": {},
   "outputs": [
    {
     "data": {
      "text/plain": [
       "3"
      ]
     },
     "execution_count": 25,
     "metadata": {},
     "output_type": "execute_result"
    }
   ],
   "source": [
    "len(item['assets'])"
   ]
  },
  {
   "cell_type": "code",
   "execution_count": 28,
   "metadata": {},
   "outputs": [
    {
     "name": "stdout",
     "output_type": "stream",
     "text": [
      "id\n",
      "token_id\n",
      "num_sales\n",
      "background_color\n",
      "image_url\n",
      "image_preview_url\n",
      "image_thumbnail_url\n",
      "image_original_url\n",
      "animation_url\n",
      "animation_original_url\n",
      "name\n",
      "description\n",
      "external_link\n",
      "asset_contract\n",
      "permalink\n",
      "collection\n",
      "decimals\n",
      "token_metadata\n",
      "is_nsfw\n",
      "owner\n"
     ]
    }
   ],
   "source": [
    "asset = item['assets'][2]\n",
    "\n",
    "for key, value in asset.items():\n",
    "    print(key)"
   ]
  },
  {
   "cell_type": "code",
   "execution_count": 29,
   "metadata": {},
   "outputs": [
    {
     "data": {
      "text/plain": [
       "{'address': '0x495f947276749ce646f68ac8c248420045cb7b5e',\n",
       " 'asset_contract_type': 'semi-fungible',\n",
       " 'created_date': '2020-12-02T17:40:53.232025',\n",
       " 'name': 'OpenSea Shared Storefront',\n",
       " 'nft_version': None,\n",
       " 'opensea_version': '2.0.0',\n",
       " 'owner': 458910490,\n",
       " 'schema_name': 'ERC1155',\n",
       " 'symbol': 'OPENSTORE',\n",
       " 'total_supply': '0',\n",
       " 'description': '',\n",
       " 'external_link': None,\n",
       " 'image_url': None,\n",
       " 'default_to_fiat': False,\n",
       " 'dev_buyer_fee_basis_points': 0,\n",
       " 'dev_seller_fee_basis_points': 0,\n",
       " 'only_proxied_transfers': False,\n",
       " 'opensea_buyer_fee_basis_points': 0,\n",
       " 'opensea_seller_fee_basis_points': 250,\n",
       " 'buyer_fee_basis_points': 0,\n",
       " 'seller_fee_basis_points': 250,\n",
       " 'payout_address': None}"
      ]
     },
     "execution_count": 29,
     "metadata": {},
     "output_type": "execute_result"
    }
   ],
   "source": [
    "# NFT Standard: Through the standard, NFT developers can clearly understand how the asset operates and how it will interact with its basic functions, and they can guarantee this through the standard.\n",
    "# ERC1155 (semi-fungible)\n",
    "\n",
    "asset['asset_contract']"
   ]
  },
  {
   "cell_type": "code",
   "execution_count": 30,
   "metadata": {},
   "outputs": [
    {
     "data": {
      "text/plain": [
       "{'banner_image_url': None,\n",
       " 'chat_url': None,\n",
       " 'created_date': '2023-02-11T15:34:50.459367+00:00',\n",
       " 'default_to_fiat': False,\n",
       " 'description': None,\n",
       " 'dev_buyer_fee_basis_points': '0',\n",
       " 'dev_seller_fee_basis_points': '0',\n",
       " 'discord_url': None,\n",
       " 'display_data': {'card_display_style': 'contain', 'images': []},\n",
       " 'external_url': None,\n",
       " 'featured': False,\n",
       " 'featured_image_url': None,\n",
       " 'hidden': True,\n",
       " 'safelist_request_status': 'not_requested',\n",
       " 'image_url': None,\n",
       " 'is_subject_to_whitelist': False,\n",
       " 'large_image_url': None,\n",
       " 'medium_username': None,\n",
       " 'name': 'Untitled Collection #2455359703',\n",
       " 'only_proxied_transfers': False,\n",
       " 'opensea_buyer_fee_basis_points': '0',\n",
       " 'opensea_seller_fee_basis_points': '250',\n",
       " 'payout_address': None,\n",
       " 'require_email': False,\n",
       " 'short_description': None,\n",
       " 'slug': 'untitled-collection-2455359703',\n",
       " 'telegram_url': None,\n",
       " 'twitter_username': None,\n",
       " 'instagram_username': None,\n",
       " 'wiki_url': None,\n",
       " 'is_nsfw': False,\n",
       " 'fees': {'seller_fees': {},\n",
       "  'opensea_fees': {'0x0000a26b00c1f0df003000390027140000faa719': 250}},\n",
       " 'is_rarity_enabled': False,\n",
       " 'is_creator_fees_enforced': True}"
      ]
     },
     "execution_count": 30,
     "metadata": {},
     "output_type": "execute_result"
    }
   ],
   "source": [
    "asset['collection']"
   ]
  },
  {
   "cell_type": "code",
   "execution_count": 31,
   "metadata": {},
   "outputs": [],
   "source": [
    "asset['owner']"
   ]
  },
  {
   "cell_type": "markdown",
   "metadata": {},
   "source": [
    "### asset_contract "
   ]
  },
  {
   "cell_type": "code",
   "execution_count": 32,
   "metadata": {},
   "outputs": [
    {
     "name": "stdout",
     "output_type": "stream",
     "text": [
      "address\n",
      "asset_contract_type\n",
      "created_date\n",
      "name\n",
      "nft_version\n",
      "opensea_version\n",
      "owner\n",
      "schema_name\n",
      "symbol\n",
      "total_supply\n",
      "description\n",
      "external_link\n",
      "image_url\n",
      "default_to_fiat\n",
      "dev_buyer_fee_basis_points\n",
      "dev_seller_fee_basis_points\n",
      "only_proxied_transfers\n",
      "opensea_buyer_fee_basis_points\n",
      "opensea_seller_fee_basis_points\n",
      "buyer_fee_basis_points\n",
      "seller_fee_basis_points\n",
      "payout_address\n"
     ]
    }
   ],
   "source": [
    "for key, value in item['asset_contract'].items():\n",
    "    print(key)"
   ]
  },
  {
   "attachments": {},
   "cell_type": "markdown",
   "metadata": {},
   "source": [
    "# Benchmark dataset\n",
    "to compare model performance with NFT dataset\n",
    "- MovieLens 1M\n",
    "    - 1,000,209 anonymous ratings of approximately 3,900 movies made by 6,040 MovieLens users who joined MovieLens in 2000.\n",
    "        - UserIDs range between 1 and 6040 \n",
    "        - MovieIDs range between 1 and 3952\n",
    "        - Ratings are made on a 5-star scale (whole-star ratings only)\n",
    "        - Timestamp is represented in seconds since the epoch as returned by time(2)\n",
    "        - Each user has at least 20 ratings\n",
    "    - kaggle notebook\n",
    "        - [Netflix Problem - Singular Value Thresholding](https://www.kaggle.com/code/odedgolden/netflix-problem-singular-value-thresholding)"
   ]
  },
  {
   "cell_type": "code",
   "execution_count": 34,
   "metadata": {},
   "outputs": [],
   "source": [
    "# 100k\n",
    "\n",
    "content = []\n",
    "with open('./data/benchmarks/ml-latest-small-100k/ratings.csv') as fp:\n",
    "    content = fp.readlines()\n",
    "\n",
    "ratings_list = [i.strip().split(\"::\") for i in content][1:]\n",
    "ratings_list = [i[0].split(',') for i in ratings_list]\n",
    "\n",
    "# 1M\n",
    "\n",
    "ratings_list = [i.strip().split(\"::\") for i in open(\n",
    "    './data/benchmarks/ml-1m/ratings.dat', 'r').readlines()]\n",
    "\n",
    "# 10M\n",
    "\n",
    "ratings_list = [i.strip().split(\"::\") for i in open(\n",
    "    './data/benchmarks/ml-10M100K/ratings.dat', 'r').readlines()]\n"
   ]
  },
  {
   "cell_type": "code",
   "execution_count": 35,
   "metadata": {},
   "outputs": [
    {
     "name": "stderr",
     "output_type": "stream",
     "text": [
      "c:\\Users\\lesga\\anaconda3\\envs\\RecBole_2\\lib\\site-packages\\IPython\\core\\interactiveshell.py:3457: FutureWarning: Could not cast to int32, falling back to object. This behavior is deprecated. In a future version, when a dtype is passed to 'DataFrame', either all columns will be cast to that dtype, or a TypeError will be raised\n",
      "  exec(code_obj, self.user_global_ns, self.user_ns)\n"
     ]
    },
    {
     "data": {
      "text/html": [
       "<div>\n",
       "<style scoped>\n",
       "    .dataframe tbody tr th:only-of-type {\n",
       "        vertical-align: middle;\n",
       "    }\n",
       "\n",
       "    .dataframe tbody tr th {\n",
       "        vertical-align: top;\n",
       "    }\n",
       "\n",
       "    .dataframe thead th {\n",
       "        text-align: right;\n",
       "    }\n",
       "</style>\n",
       "<table border=\"1\" class=\"dataframe\">\n",
       "  <thead>\n",
       "    <tr style=\"text-align: right;\">\n",
       "      <th>MovieID</th>\n",
       "      <th>1</th>\n",
       "      <th>10</th>\n",
       "      <th>100</th>\n",
       "      <th>1000</th>\n",
       "      <th>1001</th>\n",
       "      <th>1002</th>\n",
       "      <th>1003</th>\n",
       "      <th>1004</th>\n",
       "      <th>1005</th>\n",
       "      <th>1006</th>\n",
       "      <th>...</th>\n",
       "      <th>99</th>\n",
       "      <th>990</th>\n",
       "      <th>991</th>\n",
       "      <th>992</th>\n",
       "      <th>993</th>\n",
       "      <th>994</th>\n",
       "      <th>996</th>\n",
       "      <th>997</th>\n",
       "      <th>998</th>\n",
       "      <th>999</th>\n",
       "    </tr>\n",
       "    <tr>\n",
       "      <th>UserID</th>\n",
       "      <th></th>\n",
       "      <th></th>\n",
       "      <th></th>\n",
       "      <th></th>\n",
       "      <th></th>\n",
       "      <th></th>\n",
       "      <th></th>\n",
       "      <th></th>\n",
       "      <th></th>\n",
       "      <th></th>\n",
       "      <th></th>\n",
       "      <th></th>\n",
       "      <th></th>\n",
       "      <th></th>\n",
       "      <th></th>\n",
       "      <th></th>\n",
       "      <th></th>\n",
       "      <th></th>\n",
       "      <th></th>\n",
       "      <th></th>\n",
       "      <th></th>\n",
       "    </tr>\n",
       "  </thead>\n",
       "  <tbody>\n",
       "    <tr>\n",
       "      <th>1</th>\n",
       "      <td>0.0</td>\n",
       "      <td>0.0</td>\n",
       "      <td>0.0</td>\n",
       "      <td>0.0</td>\n",
       "      <td>0.0</td>\n",
       "      <td>0.0</td>\n",
       "      <td>0.0</td>\n",
       "      <td>0.0</td>\n",
       "      <td>0.0</td>\n",
       "      <td>0.0</td>\n",
       "      <td>...</td>\n",
       "      <td>0.0</td>\n",
       "      <td>0.0</td>\n",
       "      <td>0.0</td>\n",
       "      <td>0.0</td>\n",
       "      <td>0.0</td>\n",
       "      <td>0.0</td>\n",
       "      <td>0.0</td>\n",
       "      <td>0.0</td>\n",
       "      <td>0.0</td>\n",
       "      <td>0.0</td>\n",
       "    </tr>\n",
       "    <tr>\n",
       "      <th>10</th>\n",
       "      <td>0.0</td>\n",
       "      <td>0.0</td>\n",
       "      <td>0.0</td>\n",
       "      <td>0.0</td>\n",
       "      <td>0.0</td>\n",
       "      <td>0.0</td>\n",
       "      <td>0.0</td>\n",
       "      <td>0.0</td>\n",
       "      <td>0.0</td>\n",
       "      <td>0.0</td>\n",
       "      <td>...</td>\n",
       "      <td>0.0</td>\n",
       "      <td>0.0</td>\n",
       "      <td>0.0</td>\n",
       "      <td>0.0</td>\n",
       "      <td>0.0</td>\n",
       "      <td>0.0</td>\n",
       "      <td>0.0</td>\n",
       "      <td>0.0</td>\n",
       "      <td>0.0</td>\n",
       "      <td>0.0</td>\n",
       "    </tr>\n",
       "    <tr>\n",
       "      <th>100</th>\n",
       "      <td>1.5</td>\n",
       "      <td>2.5</td>\n",
       "      <td>0.0</td>\n",
       "      <td>0.0</td>\n",
       "      <td>0.0</td>\n",
       "      <td>0.0</td>\n",
       "      <td>0.0</td>\n",
       "      <td>0.0</td>\n",
       "      <td>0.0</td>\n",
       "      <td>0.0</td>\n",
       "      <td>...</td>\n",
       "      <td>0.0</td>\n",
       "      <td>0.0</td>\n",
       "      <td>0.0</td>\n",
       "      <td>0.0</td>\n",
       "      <td>0.0</td>\n",
       "      <td>0.0</td>\n",
       "      <td>0.0</td>\n",
       "      <td>0.0</td>\n",
       "      <td>0.0</td>\n",
       "      <td>0.0</td>\n",
       "    </tr>\n",
       "    <tr>\n",
       "      <th>10000</th>\n",
       "      <td>0.0</td>\n",
       "      <td>0.0</td>\n",
       "      <td>0.0</td>\n",
       "      <td>0.0</td>\n",
       "      <td>0.0</td>\n",
       "      <td>0.0</td>\n",
       "      <td>0.0</td>\n",
       "      <td>0.0</td>\n",
       "      <td>0.0</td>\n",
       "      <td>0.0</td>\n",
       "      <td>...</td>\n",
       "      <td>0.0</td>\n",
       "      <td>0.0</td>\n",
       "      <td>0.0</td>\n",
       "      <td>0.0</td>\n",
       "      <td>0.0</td>\n",
       "      <td>0.0</td>\n",
       "      <td>0.0</td>\n",
       "      <td>0.0</td>\n",
       "      <td>0.0</td>\n",
       "      <td>0.0</td>\n",
       "    </tr>\n",
       "    <tr>\n",
       "      <th>10001</th>\n",
       "      <td>0.0</td>\n",
       "      <td>0.0</td>\n",
       "      <td>0.0</td>\n",
       "      <td>0.0</td>\n",
       "      <td>0.0</td>\n",
       "      <td>0.0</td>\n",
       "      <td>0.0</td>\n",
       "      <td>0.0</td>\n",
       "      <td>0.0</td>\n",
       "      <td>0.0</td>\n",
       "      <td>...</td>\n",
       "      <td>0.0</td>\n",
       "      <td>0.0</td>\n",
       "      <td>0.0</td>\n",
       "      <td>0.0</td>\n",
       "      <td>0.0</td>\n",
       "      <td>0.0</td>\n",
       "      <td>0.0</td>\n",
       "      <td>0.0</td>\n",
       "      <td>0.0</td>\n",
       "      <td>0.0</td>\n",
       "    </tr>\n",
       "    <tr>\n",
       "      <th>...</th>\n",
       "      <td>...</td>\n",
       "      <td>...</td>\n",
       "      <td>...</td>\n",
       "      <td>...</td>\n",
       "      <td>...</td>\n",
       "      <td>...</td>\n",
       "      <td>...</td>\n",
       "      <td>...</td>\n",
       "      <td>...</td>\n",
       "      <td>...</td>\n",
       "      <td>...</td>\n",
       "      <td>...</td>\n",
       "      <td>...</td>\n",
       "      <td>...</td>\n",
       "      <td>...</td>\n",
       "      <td>...</td>\n",
       "      <td>...</td>\n",
       "      <td>...</td>\n",
       "      <td>...</td>\n",
       "      <td>...</td>\n",
       "      <td>...</td>\n",
       "    </tr>\n",
       "    <tr>\n",
       "      <th>9995</th>\n",
       "      <td>0.0</td>\n",
       "      <td>3.0</td>\n",
       "      <td>0.0</td>\n",
       "      <td>0.0</td>\n",
       "      <td>0.0</td>\n",
       "      <td>0.0</td>\n",
       "      <td>0.0</td>\n",
       "      <td>0.0</td>\n",
       "      <td>0.0</td>\n",
       "      <td>0.0</td>\n",
       "      <td>...</td>\n",
       "      <td>0.0</td>\n",
       "      <td>0.0</td>\n",
       "      <td>0.0</td>\n",
       "      <td>0.0</td>\n",
       "      <td>0.0</td>\n",
       "      <td>0.0</td>\n",
       "      <td>0.0</td>\n",
       "      <td>0.0</td>\n",
       "      <td>0.0</td>\n",
       "      <td>0.0</td>\n",
       "    </tr>\n",
       "    <tr>\n",
       "      <th>9996</th>\n",
       "      <td>0.0</td>\n",
       "      <td>0.0</td>\n",
       "      <td>0.0</td>\n",
       "      <td>0.0</td>\n",
       "      <td>0.0</td>\n",
       "      <td>0.0</td>\n",
       "      <td>0.0</td>\n",
       "      <td>0.0</td>\n",
       "      <td>0.0</td>\n",
       "      <td>0.0</td>\n",
       "      <td>...</td>\n",
       "      <td>3.0</td>\n",
       "      <td>0.0</td>\n",
       "      <td>0.0</td>\n",
       "      <td>0.0</td>\n",
       "      <td>0.0</td>\n",
       "      <td>0.0</td>\n",
       "      <td>0.0</td>\n",
       "      <td>0.0</td>\n",
       "      <td>0.0</td>\n",
       "      <td>0.0</td>\n",
       "    </tr>\n",
       "    <tr>\n",
       "      <th>9997</th>\n",
       "      <td>0.0</td>\n",
       "      <td>0.0</td>\n",
       "      <td>0.0</td>\n",
       "      <td>0.0</td>\n",
       "      <td>0.0</td>\n",
       "      <td>0.0</td>\n",
       "      <td>0.0</td>\n",
       "      <td>0.0</td>\n",
       "      <td>0.0</td>\n",
       "      <td>0.0</td>\n",
       "      <td>...</td>\n",
       "      <td>0.0</td>\n",
       "      <td>0.0</td>\n",
       "      <td>0.0</td>\n",
       "      <td>0.0</td>\n",
       "      <td>0.0</td>\n",
       "      <td>0.0</td>\n",
       "      <td>0.0</td>\n",
       "      <td>0.0</td>\n",
       "      <td>0.0</td>\n",
       "      <td>0.0</td>\n",
       "    </tr>\n",
       "    <tr>\n",
       "      <th>9998</th>\n",
       "      <td>0.0</td>\n",
       "      <td>0.0</td>\n",
       "      <td>0.0</td>\n",
       "      <td>0.0</td>\n",
       "      <td>0.0</td>\n",
       "      <td>0.0</td>\n",
       "      <td>0.0</td>\n",
       "      <td>0.0</td>\n",
       "      <td>0.0</td>\n",
       "      <td>0.0</td>\n",
       "      <td>...</td>\n",
       "      <td>0.0</td>\n",
       "      <td>0.0</td>\n",
       "      <td>0.0</td>\n",
       "      <td>0.0</td>\n",
       "      <td>0.0</td>\n",
       "      <td>0.0</td>\n",
       "      <td>0.0</td>\n",
       "      <td>0.0</td>\n",
       "      <td>0.0</td>\n",
       "      <td>0.0</td>\n",
       "    </tr>\n",
       "    <tr>\n",
       "      <th>9999</th>\n",
       "      <td>5.0</td>\n",
       "      <td>5.0</td>\n",
       "      <td>0.0</td>\n",
       "      <td>0.0</td>\n",
       "      <td>0.0</td>\n",
       "      <td>0.0</td>\n",
       "      <td>0.0</td>\n",
       "      <td>0.0</td>\n",
       "      <td>0.0</td>\n",
       "      <td>0.0</td>\n",
       "      <td>...</td>\n",
       "      <td>0.0</td>\n",
       "      <td>0.0</td>\n",
       "      <td>0.0</td>\n",
       "      <td>0.0</td>\n",
       "      <td>0.0</td>\n",
       "      <td>0.0</td>\n",
       "      <td>0.0</td>\n",
       "      <td>0.0</td>\n",
       "      <td>0.0</td>\n",
       "      <td>0.0</td>\n",
       "    </tr>\n",
       "  </tbody>\n",
       "</table>\n",
       "<p>69878 rows × 10677 columns</p>\n",
       "</div>"
      ],
      "text/plain": [
       "MovieID    1   10  100  1000  1001  1002  1003  1004  1005  1006  ...   99  \\\n",
       "UserID                                                            ...        \n",
       "1        0.0  0.0  0.0   0.0   0.0   0.0   0.0   0.0   0.0   0.0  ...  0.0   \n",
       "10       0.0  0.0  0.0   0.0   0.0   0.0   0.0   0.0   0.0   0.0  ...  0.0   \n",
       "100      1.5  2.5  0.0   0.0   0.0   0.0   0.0   0.0   0.0   0.0  ...  0.0   \n",
       "10000    0.0  0.0  0.0   0.0   0.0   0.0   0.0   0.0   0.0   0.0  ...  0.0   \n",
       "10001    0.0  0.0  0.0   0.0   0.0   0.0   0.0   0.0   0.0   0.0  ...  0.0   \n",
       "...      ...  ...  ...   ...   ...   ...   ...   ...   ...   ...  ...  ...   \n",
       "9995     0.0  3.0  0.0   0.0   0.0   0.0   0.0   0.0   0.0   0.0  ...  0.0   \n",
       "9996     0.0  0.0  0.0   0.0   0.0   0.0   0.0   0.0   0.0   0.0  ...  3.0   \n",
       "9997     0.0  0.0  0.0   0.0   0.0   0.0   0.0   0.0   0.0   0.0  ...  0.0   \n",
       "9998     0.0  0.0  0.0   0.0   0.0   0.0   0.0   0.0   0.0   0.0  ...  0.0   \n",
       "9999     5.0  5.0  0.0   0.0   0.0   0.0   0.0   0.0   0.0   0.0  ...  0.0   \n",
       "\n",
       "MovieID  990  991  992  993  994  996  997  998  999  \n",
       "UserID                                                \n",
       "1        0.0  0.0  0.0  0.0  0.0  0.0  0.0  0.0  0.0  \n",
       "10       0.0  0.0  0.0  0.0  0.0  0.0  0.0  0.0  0.0  \n",
       "100      0.0  0.0  0.0  0.0  0.0  0.0  0.0  0.0  0.0  \n",
       "10000    0.0  0.0  0.0  0.0  0.0  0.0  0.0  0.0  0.0  \n",
       "10001    0.0  0.0  0.0  0.0  0.0  0.0  0.0  0.0  0.0  \n",
       "...      ...  ...  ...  ...  ...  ...  ...  ...  ...  \n",
       "9995     0.0  0.0  0.0  0.0  0.0  0.0  0.0  0.0  0.0  \n",
       "9996     0.0  0.0  0.0  0.0  0.0  0.0  0.0  0.0  0.0  \n",
       "9997     0.0  0.0  0.0  0.0  0.0  0.0  0.0  0.0  0.0  \n",
       "9998     0.0  0.0  0.0  0.0  0.0  0.0  0.0  0.0  0.0  \n",
       "9999     0.0  0.0  0.0  0.0  0.0  0.0  0.0  0.0  0.0  \n",
       "\n",
       "[69878 rows x 10677 columns]"
      ]
     },
     "execution_count": 35,
     "metadata": {},
     "output_type": "execute_result"
    }
   ],
   "source": [
    "# preprocessing \n",
    "\n",
    "ratings_df = pd.DataFrame(ratings_list, columns=[\n",
    "                          'UserID', 'MovieID', 'Rating', 'Timestamp'], dtype=int)\n",
    "ratings_df['Rating'] = ratings_df['Rating'].apply(pd.to_numeric)\n",
    "R_df = ratings_df.pivot(index='UserID', columns='MovieID',\n",
    "                        values='Rating').fillna(0)\n",
    "R_df\n"
   ]
  },
  {
   "cell_type": "code",
   "execution_count": 36,
   "metadata": {},
   "outputs": [
    {
     "data": {
      "text/plain": [
       "98.65966722939163"
      ]
     },
     "execution_count": 36,
     "metadata": {},
     "output_type": "execute_result"
    }
   ],
   "source": [
    "# calculate sparsity \n",
    "\n",
    "count_sum = 0\n",
    "for column_name in R_df.columns:\n",
    "    column = R_df[column_name]\n",
    "    # Get the count of Zeros in column\n",
    "    count = (column == 0).sum()\n",
    "    # print('Count of zeros in column ', column_name, ' is : ', count)\n",
    "    count_sum += count\n",
    "\n",
    "count_sum / (R_df.shape[0] * R_df.shape[1]) * 100\n"
   ]
  }
 ],
 "metadata": {
  "kernelspec": {
   "display_name": "RecBole_2",
   "language": "python",
   "name": "python3"
  },
  "language_info": {
   "codemirror_mode": {
    "name": "ipython",
    "version": 3
   },
   "file_extension": ".py",
   "mimetype": "text/x-python",
   "name": "python",
   "nbconvert_exporter": "python",
   "pygments_lexer": "ipython3",
   "version": "3.7.16"
  },
  "orig_nbformat": 4,
  "vscode": {
   "interpreter": {
    "hash": "991fe3f9de00c9a422a5f66b8cc7243158afe66a42c9654a2fcf9d740859f175"
   }
  }
 },
 "nbformat": 4,
 "nbformat_minor": 2
}
